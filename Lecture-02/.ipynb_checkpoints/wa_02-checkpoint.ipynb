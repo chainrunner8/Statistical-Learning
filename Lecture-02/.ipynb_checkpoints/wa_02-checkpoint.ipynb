{
 "cells": [
  {
   "cell_type": "markdown",
   "metadata": {},
   "source": [
    "<center> \n",
    "\n",
    "# Statistical Learning weekly assignment 2\n",
    "\n",
    "### Gaspard Gaches (s4645251)\n",
    "\n",
    "</center>"
   ]
  },
  {
   "cell_type": "code",
   "execution_count": 64,
   "metadata": {},
   "outputs": [],
   "source": [
    "import numpy as np\n",
    "import pandas as pd\n",
    "import matplotlib.pyplot as plt\n",
    "from sklearn.discriminant_analysis import LinearDiscriminantAnalysis, QuadraticDiscriminantAnalysis\n",
    "from scipy.stats import norm\n",
    "from statistics import fmean"
   ]
  },
  {
   "cell_type": "markdown",
   "metadata": {},
   "source": [
    "First let's recreate the R function given in the assignment in python:"
   ]
  },
  {
   "cell_type": "code",
   "execution_count": 33,
   "metadata": {},
   "outputs": [],
   "source": [
    "# note: after experimenting I realised np.diag() only creates a \n",
    "# strided view of the original data, not a regular 2D array, so \n",
    "# to make operations on it I need to add a float to it (here 0.2), \n",
    "# or just '+ 0.'\n",
    "p = 3\n",
    "\n",
    "def generateData(n):\n",
    "    n1 = n2 = n//2\n",
    "    cov_1 = np.diag(np.repeat(1, p)) + 0.2\n",
    "    cov_2 = np.diag(np.repeat(1, p)) + 0.2\n",
    "    cov_2[1, 2] = cov_2[2, 1] = cov_2[1, 2] + 0.5\n",
    "    x_class1 = np.random.multivariate_normal(\n",
    "        mean=np.repeat(3, p),\n",
    "        cov=cov_1,\n",
    "        size=n1\n",
    "    )\n",
    "    x_class2 = np.random.multivariate_normal(\n",
    "        mean=np.repeat(2, p),\n",
    "        cov=cov_2,\n",
    "        size=n2\n",
    "    )\n",
    "    y = np.repeat((1, 2), (n1, n2))\n",
    "    data_set = pd.concat([pd.DataFrame(x_class1), pd.DataFrame(x_class2)])\n",
    "    data_set.columns = [f'x_{i}' for i in range(1, p+1)]\n",
    "    data_set['y'] = y\n",
    "\n",
    "    return data_set"
   ]
  },
  {
   "cell_type": "markdown",
   "metadata": {},
   "source": [
    "Since the covariance matrices are slightly different between the 2 classes, it follows the assumption that the validity (or let's say the performance) of QDA depends upon. In this case, QDA might be the best performing classifier, while LDA would have have higher bias, so it might lack a little bit of flexibility for our data set here (given that the Bayes decision boundary isn't linear)."
   ]
  },
  {
   "cell_type": "code",
   "execution_count": null,
   "metadata": {},
   "outputs": [],
   "source": [
    "def predictLDA(train_set, test_set):\n",
    "\n",
    "    LDA = LinearDiscriminantAnalysis(store_covariance=True)\n",
    "    LDA.fit(\n",
    "        X=train_set[[f'x_{i}' for i in range(1, p+1)]], \n",
    "        y=train_set['y']\n",
    "    )\n",
    "    # let's first take a quick look at what's inside our LDA:\n",
    "    print(\"LDA Classes:\", LDA.classes_)\n",
    "    print(\"LDA Means:\", LDA.means_)\n",
    "    print(\"LDA Covariance matrix:\", LDA.covariance_)\n",
    "\n",
    "    y_pred = LDA.predict(X=test_set[[f'x_{i}' for i in range(1, p+1)]])\n",
    "\n",
    "    return y_pred\n",
    "\n",
    "\n",
    "def predictQDA(train_set, test_set):\n",
    "    \n",
    "    QDA = QuadraticDiscriminantAnalysis(store_covariance=True)\n",
    "    QDA.fit(\n",
    "        X=train_set[[f'x_{i}' for i in range(1, p+1)]], \n",
    "        y=train_set['y']\n",
    "    )\n",
    "    # let's first take a quick look at what's inside our QDA:\n",
    "    print(\"QDA Classes:\", QDA.classes_)\n",
    "    print(\"QDA Means:\", QDA.means_)\n",
    "    print(\"QDA Covariance matrix:\", QDA.covariance_)\n",
    "\n",
    "    y_pred = QDA.predict(X=test_set[[f'x_{i}' for i in range(1, p+1)]])\n",
    "\n",
    "    return y_pred"
   ]
  },
  {
   "cell_type": "markdown",
   "metadata": {},
   "source": [
    "First let's generate two small data sets and take a look at what our discriminant functions do:"
   ]
  },
  {
   "cell_type": "code",
   "execution_count": 117,
   "metadata": {},
   "outputs": [],
   "source": [
    "train = generateData(20)\n",
    "test = generateData(20)"
   ]
  },
  {
   "cell_type": "code",
   "execution_count": 118,
   "metadata": {},
   "outputs": [
    {
     "name": "stdout",
     "output_type": "stream",
     "text": [
      "LDA Classes: [1 2]\n",
      "LDA Means: [[3.22560067 2.39104093 3.38032654]\n",
      " [2.03234439 1.7851859  1.72716202]]\n",
      "LDA Covariance matrix: [[ 1.13749041 -0.21471272 -0.20747685]\n",
      " [-0.21471272  0.70179146 -0.1659123 ]\n",
      " [-0.20747685 -0.1659123   0.94067546]]\n"
     ]
    },
    {
     "name": "stderr",
     "output_type": "stream",
     "text": [
      "c:\\Users\\Gaspard\\miniconda3\\envs\\venv_stats\\Lib\\site-packages\\sklearn\\utils\\validation.py:1408: DataConversionWarning: A column-vector y was passed when a 1d array was expected. Please change the shape of y to (n_samples, ), for example using ravel().\n",
      "  y = column_or_1d(y, warn=True)\n"
     ]
    },
    {
     "data": {
      "text/plain": [
       "array([1, 1, 1, 2, 1, 1, 1, 2, 1, 2, 2, 2, 2, 2, 2, 2, 2, 2, 2, 2])"
      ]
     },
     "execution_count": 118,
     "metadata": {},
     "output_type": "execute_result"
    }
   ],
   "source": [
    "predictLDA(train, test)"
   ]
  },
  {
   "cell_type": "code",
   "execution_count": null,
   "metadata": {},
   "outputs": [
    {
     "name": "stdout",
     "output_type": "stream",
     "text": [
      "QDA Classes: [1 2]\n",
      "QDA Means: [[3.22560067 2.39104093 3.38032654]\n",
      " [2.03234439 1.7851859  1.72716202]]\n",
      "QDA Covariance matrix: [array([[ 0.94555935, -0.23851467,  0.08941347],\n",
      "       [-0.23851467,  0.4644733 , -0.49326297],\n",
      "       [ 0.08941347, -0.49326297,  1.17158881]]), array([[ 1.58219712, -0.23862471, -0.55047315],\n",
      "       [-0.23862471,  1.09506328,  0.12456897],\n",
      "       [-0.55047315,  0.12456897,  0.91880109]])]\n"
     ]
    },
    {
     "name": "stderr",
     "output_type": "stream",
     "text": [
      "c:\\Users\\Gaspard\\miniconda3\\envs\\venv_stats\\Lib\\site-packages\\sklearn\\utils\\validation.py:1408: DataConversionWarning: A column-vector y was passed when a 1d array was expected. Please change the shape of y to (n_samples, ), for example using ravel().\n",
      "  y = column_or_1d(y, warn=True)\n"
     ]
    },
    {
     "data": {
      "text/plain": [
       "array([1, 1, 1, 2, 2, 1, 1, 2, 1, 2, 2, 2, 2, 2, 2, 2, 2, 2, 2, 2])"
      ]
     },
     "execution_count": 119,
     "metadata": {},
     "output_type": "execute_result"
    }
   ],
   "source": [
    "predictQDA(train, test)"
   ]
  },
  {
   "cell_type": "markdown",
   "metadata": {},
   "source": [
    "As we can see, the QDA function returned two covariances matrices. Also notice how the fifth elements of the ```y_pred``` results differ betwee the two methods, but the rest of the predicted labels are the same.\n",
    "\n",
    "I have now removed the ```store_covariance=True``` parameter and commented out the print statements in the discriminant functions, to prepare for the loop we are going to be running next:"
   ]
  },
  {
   "cell_type": "code",
   "execution_count": null,
   "metadata": {},
   "outputs": [],
   "source": [
    "def predictLDA(train_set, test_set):\n",
    "    LDA = LinearDiscriminantAnalysis()\n",
    "    LDA.fit(\n",
    "        X=train_set[[f'x_{i}' for i in range(1, p+1)]], \n",
    "        y=train_set['y']\n",
    "    )\n",
    "    y_pred = LDA.predict(X=test_set[[f'x_{i}' for i in range(1, p+1)]])\n",
    "    return y_pred\n",
    "\n",
    "def predictQDA(train_set, test_set):\n",
    "    QDA = QuadraticDiscriminantAnalysis()\n",
    "    QDA.fit(\n",
    "        X=train_set[[f'x_{i}' for i in range(1, p+1)]], \n",
    "        y=train_set['y']\n",
    "    )\n",
    "    y_pred = QDA.predict(X=test_set[[f'x_{i}' for i in range(1, p+1)]])\n",
    "    return y_pred"
   ]
  },
  {
   "cell_type": "markdown",
   "metadata": {},
   "source": [
    "Below I manually coded a function that computes the confusion matrix and returns the accuracy, for the challenge:"
   ]
  },
  {
   "cell_type": "code",
   "execution_count": 35,
   "metadata": {},
   "outputs": [],
   "source": [
    "def classifyPreds(row):\n",
    "    \n",
    "    if row.y == 2 and row.y_hat == 2:\n",
    "        return 'TP'\n",
    "    elif row.y == 2 and row.y_hat == 1:\n",
    "        return 'FN'\n",
    "    elif row.y == 1 and row.y_hat == 2:\n",
    "        return 'FP'\n",
    "    elif row.y == 1 and row.y_hat == 1:\n",
    "        return 'TN'\n",
    "\n",
    "\n",
    "def getAccuracy(df_labels):\n",
    "\n",
    "    pos_negs = df_labels.apply(classifyPreds, axis=1)\n",
    "    cf_matrix = pos_negs.value_counts()\n",
    "    return (cf_matrix['TP'] + cf_matrix['TN']) / sum(cf_matrix)"
   ]
  },
  {
   "cell_type": "markdown",
   "metadata": {},
   "source": [
    "And now the function that is going to run the experiment 100 times and return the average accuracy over these 100 repetitions for both methods:"
   ]
  },
  {
   "cell_type": "code",
   "execution_count": null,
   "metadata": {},
   "outputs": [],
   "source": [
    "def discriminantAnalysis(n_train):\n",
    "    \n",
    "    classifier_acc = {'LDA': [], 'QDA': []}\n",
    "\n",
    "    for _ in range(100):\n",
    "        train = generateData(n_train)\n",
    "        test = generateData(10_000)\n",
    "\n",
    "        y_hat_LDA = predictLDA(train, test)\n",
    "        y_hat_QDA = predictQDA(train, test)\n",
    "\n",
    "        df_LDA = pd.DataFrame({'y': test['y'], 'y_hat': y_hat_LDA})\n",
    "        df_QDA = pd.DataFrame({'y': test['y'], 'y_hat': y_hat_QDA})\n",
    "\n",
    "        classifier_acc['LDA'].append(getAccuracy(df_LDA))\n",
    "        classifier_acc['QDA'].append(getAccuracy(df_QDA))\n",
    "\n",
    "    return pd.DataFrame({'LDA': [round(fmean(classifier_acc['LDA']), 4)], 'QDA': [round(fmean(classifier_acc['QDA']), 4)]})"
   ]
  },
  {
   "cell_type": "code",
   "execution_count": 136,
   "metadata": {},
   "outputs": [
    {
     "data": {
      "text/html": [
       "<div>\n",
       "<style scoped>\n",
       "    .dataframe tbody tr th:only-of-type {\n",
       "        vertical-align: middle;\n",
       "    }\n",
       "\n",
       "    .dataframe tbody tr th {\n",
       "        vertical-align: top;\n",
       "    }\n",
       "\n",
       "    .dataframe thead th {\n",
       "        text-align: right;\n",
       "    }\n",
       "</style>\n",
       "<table border=\"1\" class=\"dataframe\">\n",
       "  <thead>\n",
       "    <tr style=\"text-align: right;\">\n",
       "      <th></th>\n",
       "      <th>LDA</th>\n",
       "      <th>QDA</th>\n",
       "    </tr>\n",
       "  </thead>\n",
       "  <tbody>\n",
       "    <tr>\n",
       "      <th>n_train=50</th>\n",
       "      <td>0.7276</td>\n",
       "      <td>0.7264</td>\n",
       "    </tr>\n",
       "    <tr>\n",
       "      <th>n_train=10^4</th>\n",
       "      <td>0.7446</td>\n",
       "      <td>0.7577</td>\n",
       "    </tr>\n",
       "  </tbody>\n",
       "</table>\n",
       "</div>"
      ],
      "text/plain": [
       "                 LDA     QDA\n",
       "n_train=50    0.7276  0.7264\n",
       "n_train=10^4  0.7446  0.7577"
      ]
     },
     "execution_count": 136,
     "metadata": {},
     "output_type": "execute_result"
    }
   ],
   "source": [
    "df_train_50 = discriminantAnalysis(50)\n",
    "df_train_10k = discriminantAnalysis(10_000)\n",
    "\n",
    "df_results = pd.concat([df_train_50, df_train_10k])\n",
    "df_results.index = pd.Index(['n_train=50', 'n_train=10^4'])\n",
    "df_results"
   ]
  },
  {
   "cell_type": "markdown",
   "metadata": {},
   "source": [
    "In the table above, we see that for ```n_train = 50```, over 100 repetitions, LDA and QDA have virtually the same accuracy. I would say this result here is more or less in line with my expectations, though with as few as 50 training observations, it's not surprising that LDA performs just as well as QDA because it has lower variance. For ```n_train = 10,000``` though, we see that QDA barely outperforms LDA: I cannot say I am surprised at this result this time because with such a bigger training set, our model can \"see\" most of the variance in the data, which implies two things:\n",
    "- in this situation a more flexible model like QDA will likely yield better results if the clas covariance matrices are really different, because its high variance can better capture all the variability in this bigger training set while maintaining low bias,\n",
    "- the covariance factor present in class 2's covariance matrix will influence the data more over a much bigger training set, which means the bigger the training set, the worst LDA gets compared to QDA on average. But that difference in accuracy is still not very big in our case here because the two class covariance matrices only differ on 1 parameter out of 6."
   ]
  },
  {
   "cell_type": "markdown",
   "metadata": {},
   "source": [
    "## Bayes classifier\n",
    "\n",
    "Here we want to estimate the posterior likelihoods for both classes:\n",
    "\n",
    "$P(Y=1|X) ∝ P(Y=1) * P(X_{1}|Y=1) * P(X_{2}|Y=1) * P(X_{3}|Y=1)$\n",
    "\n",
    "$P(Y=2|X) ∝ P(Y=2) * P(X_{1}|Y=2) * P(X_{2}|Y=2) * P(X_{3}|Y=2)$\n",
    "\n",
    "The actual Bayes classifier formula from Trevor Hastie's book involves the posterior probabilities, but like we wrote in the formula above it's proportional to the likelihood by $1/P(X)$ (Bayes theorem).\n",
    "In this case we can try to calculate the likelihood for every TEST set observation, for that we'll need approximations of the prior probabilities for classes 1 and 2, which we can take from the training set labels. Then we'll compute the likelihood for every predictor vector in the test set using the two gaussian density functions we generated our data with."
   ]
  },
  {
   "cell_type": "code",
   "execution_count": null,
   "metadata": {},
   "outputs": [],
   "source": [
    "def bayesClassifier(train_set, test_set):\n",
    "\n",
    "    mu_1, mu_2 = 3, 2\n",
    "    # i had a mental bug when thinking about what the stdev should be here\n",
    "    # but then I remembered that the Bayes classifier ignores the correlation between\n",
    "    # the predictors, so I just passed the diagonal elements of the covariance matrix\n",
    "    # as the stdev of the norm functions:\n",
    "    sigma = 1.2\n",
    "\n",
    "    vc = train_set['y'].value_counts()\n",
    "    # prior probs:\n",
    "    p_class1 = vc[1] / len(train_set['y'])\n",
    "    p_class2 = vc[2] / len(train_set['y'])\n",
    "\n",
    "    def norm1(x):\n",
    "        return norm.pdf(x, loc=mu_1, scale=sigma)\n",
    "\n",
    "    def norm2(x):\n",
    "        return norm.pdf(x, loc=mu_2, scale=sigma)\n",
    "\n",
    "    # posterior likelihoods (formula i wrote in the markdown cell above):\n",
    "    L_class1 = p_class1 * norm1(test_set['x_1']) * norm1(test_set['x_2']) * norm1(test_set['x_3'])\n",
    "    L_class2 = p_class2 * norm2(test_set['x_1']) * norm2(test_set['x_2']) * norm2(test_set['x_3'])\n",
    "\n",
    "    # realised that there's already a built-in function (idxmax) that does the same thing\n",
    "    # def predClass(row):\n",
    "    #     if row['1'] > row['2']:\n",
    "    #         return 1\n",
    "    #     else:\n",
    "    #         return 2\n",
    "    \n",
    "    bayes_preds = pd.DataFrame({'1': L_class1, '2': L_class2}).idxmax(axis=1).astype(int) # .apply(predClass, axis=1)\n",
    "\n",
    "    return np.array(bayes_preds)"
   ]
  },
  {
   "cell_type": "markdown",
   "metadata": {},
   "source": [
    "Now we just need to redefine our analysis function to include the Bayes classifier:"
   ]
  },
  {
   "cell_type": "code",
   "execution_count": 37,
   "metadata": {},
   "outputs": [],
   "source": [
    "def discriminantVsBayes(n_train):\n",
    "    \n",
    "    classifier_acc = {'LDA': [], 'QDA': [], 'Bayes': []}\n",
    "\n",
    "    for _ in range(100):\n",
    "        train = generateData(n_train)\n",
    "        test = generateData(10_000)\n",
    "\n",
    "        y_hat_LDA = predictLDA(train, test)\n",
    "        y_hat_QDA = predictQDA(train, test)\n",
    "        y_hat_Bayes = bayesClassifier(train, test)\n",
    "\n",
    "        df_LDA = pd.DataFrame({'y': test['y'], 'y_hat': y_hat_LDA})\n",
    "        df_QDA = pd.DataFrame({'y': test['y'], 'y_hat': y_hat_QDA})\n",
    "        df_Bayes = pd.DataFrame({'y': test['y'], 'y_hat': y_hat_Bayes})\n",
    "\n",
    "        classifier_acc['LDA'].append(getAccuracy(df_LDA))\n",
    "        classifier_acc['QDA'].append(getAccuracy(df_QDA))\n",
    "        classifier_acc['Bayes'].append(getAccuracy(df_Bayes))\n",
    "\n",
    "    return pd.DataFrame({\n",
    "        'LDA': [round(fmean(classifier_acc['LDA']), 4)] \n",
    "        , 'QDA': [round(fmean(classifier_acc['QDA']), 4)]\n",
    "        , 'Bayes': [round(fmean(classifier_acc['Bayes']), 4)]\n",
    "    })"
   ]
  },
  {
   "cell_type": "code",
   "execution_count": 59,
   "metadata": {},
   "outputs": [
    {
     "data": {
      "text/html": [
       "<div>\n",
       "<style scoped>\n",
       "    .dataframe tbody tr th:only-of-type {\n",
       "        vertical-align: middle;\n",
       "    }\n",
       "\n",
       "    .dataframe tbody tr th {\n",
       "        vertical-align: top;\n",
       "    }\n",
       "\n",
       "    .dataframe thead th {\n",
       "        text-align: right;\n",
       "    }\n",
       "</style>\n",
       "<table border=\"1\" class=\"dataframe\">\n",
       "  <thead>\n",
       "    <tr style=\"text-align: right;\">\n",
       "      <th></th>\n",
       "      <th>LDA</th>\n",
       "      <th>QDA</th>\n",
       "      <th>Bayes</th>\n",
       "    </tr>\n",
       "  </thead>\n",
       "  <tbody>\n",
       "    <tr>\n",
       "      <th>n_train=50</th>\n",
       "      <td>0.7290</td>\n",
       "      <td>0.7244</td>\n",
       "      <td>0.7425</td>\n",
       "    </tr>\n",
       "    <tr>\n",
       "      <th>n_train=10^4</th>\n",
       "      <td>0.7432</td>\n",
       "      <td>0.7563</td>\n",
       "      <td>0.7426</td>\n",
       "    </tr>\n",
       "  </tbody>\n",
       "</table>\n",
       "</div>"
      ],
      "text/plain": [
       "                 LDA     QDA   Bayes\n",
       "n_train=50    0.7290  0.7244  0.7425\n",
       "n_train=10^4  0.7432  0.7563  0.7426"
      ]
     },
     "execution_count": 59,
     "metadata": {},
     "output_type": "execute_result"
    }
   ],
   "source": [
    "df_train_50 = discriminantVsBayes(50)\n",
    "df_train_10k = discriminantVsBayes(10_000)\n",
    "\n",
    "df_results = pd.concat([df_train_50, df_train_10k])\n",
    "df_results.index = pd.Index(['n_train=50', 'n_train=10^4'])\n",
    "df_results"
   ]
  },
  {
   "cell_type": "markdown",
   "metadata": {},
   "source": [
    "We see that over 100 repetitions on a large training set (10,000 obs), the accuracy of the Bayes classifier is about equal to that of LDA, and slightlty inferior to that of QDA. The reason why the Bayes classifier didn't perform better than the other methods on the n=10,000 data set might be that our two distributions actually overlap quite a lot. Let's try to quickly visualise our two gaussian density functions as a function of $X_{1}$ only:"
   ]
  },
  {
   "cell_type": "code",
   "execution_count": 72,
   "metadata": {},
   "outputs": [
    {
     "data": {
      "image/png": "[encoded data removed]",
      "text/plain": [
       "<Figure size 1200x800 with 1 Axes>"
      ]
     },
     "metadata": {},
     "output_type": "display_data"
    }
   ],
   "source": [
    "df = generateData(1000)\n",
    "df.drop(columns=['x_2', 'x_3'], inplace=True)\n",
    "\n",
    "mu_1, mu_2 = 3, 2\n",
    "sigma = 1.2\n",
    "\n",
    "def norm_(row):\n",
    "    if row['y'] == 1:\n",
    "        return norm.pdf(row['x_1'], loc=mu_1, scale=sigma)\n",
    "    else:\n",
    "        return norm.pdf(row['x_1'], loc=mu_2, scale=sigma)\n",
    "\n",
    "df['norm'] = df.apply(norm_, axis=1)\n",
    "\n",
    "df_class1 = df[df['y'] == 1].sort_values('x_1')\n",
    "df_class2 = df[df['y'] == 2].sort_values('x_1')\n",
    "\n",
    "\n",
    "plt.figure(figsize=(12, 8))\n",
    "\n",
    "plt.plot(df_class1['x_1'], df_class1['norm'], label='Class 1', color='green')\n",
    "plt.plot(df_class2['x_1'], df_class2['norm'], label='Class2', color='orange')\n",
    "plt.xlabel('X_1')\n",
    "plt.ylabel('Density, or P(X_1 | Y = k)')\n",
    "plt.legend()\n",
    "plt.title('Distributions of X_1 for classes 1 and 2')\n",
    "\n",
    "plt.show()"
   ]
  },
  {
   "cell_type": "markdown",
   "metadata": {},
   "source": [
    "These two curves overlap a lot! It was easy to guess just from the means being very close (2 and 3) and the diagonal elements of the covariance matrices also being identical between the two classes, but it's always nice to visualise the data we're working on. Since $X_{2}$ and $X_{3}$ follow the same distributions, our two classes indeed overlap quite a lot. That might be the main reason why the Bayes classifier wasn't able to outperform our LDA and QDA."
   ]
  }
 ],
 "metadata": {
  "kernelspec": {
   "display_name": "venv_stats",
   "language": "python",
   "name": "python3"
  },
  "language_info": {
   "codemirror_mode": {
    "name": "ipython",
    "version": 3
   },
   "file_extension": ".py",
   "mimetype": "text/x-python",
   "name": "python",
   "nbconvert_exporter": "python",
   "pygments_lexer": "ipython3",
   "version": "3.12.3"
  }
 },
 "nbformat": 4,
 "nbformat_minor": 2
}
