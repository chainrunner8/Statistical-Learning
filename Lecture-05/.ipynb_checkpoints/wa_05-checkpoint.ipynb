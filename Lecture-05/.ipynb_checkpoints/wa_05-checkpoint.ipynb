{
 "cells": [
  {
   "cell_type": "code",
   "execution_count": 32,
   "metadata": {},
   "outputs": [],
   "source": [
    "import feather\n",
    "import pandas as pd\n",
    "import numpy as np\n",
    "from statsmodels.stats.outliers_influence import variance_inflation_factor\n",
    "from sklearn.linear_model import Ridge, Lasso, ElasticNet\n",
    "from sklearn.model_selection import train_test_split, KFold\n",
    "from sklearn.metrics import accuracy_score, confusion_matrix"
   ]
  },
  {
   "cell_type": "code",
   "execution_count": null,
   "metadata": {},
   "outputs": [],
   "source": [
    "train = feather.read_dataframe(\"masq_train.feather\").replace('NA', np.nan).dropna()\n",
    "test = feather.read_dataframe(\"masq_test.feather\").replace('NA', np.nan).dropna()\n",
    "\n",
    "train['GENDER.f'] = train.apply(lambda r: 0 if r['GENDER'] == 'm' else 1, axis=1)\n",
    "test['GENDER.f'] = test.apply(lambda r: 0 if r['GENDER'] == 'm' else 1, axis=1)"
   ]
  },
  {
   "cell_type": "markdown",
   "metadata": {},
   "source": [
    "We create a new gender column with binary values since we cannot run predictive models on string variables."
   ]
  },
  {
   "cell_type": "code",
   "execution_count": 7,
   "metadata": {},
   "outputs": [
    {
     "name": "stdout",
     "output_type": "stream",
     "text": [
      "   parameter       VIF\n",
      "20    MASQ22  4.037796\n",
      "77    MASQ79  3.917666\n",
      "14    MASQ16  3.864820\n",
      "45    MASQ47  3.691897\n",
      "75    MASQ77  3.642254\n",
      "..       ...       ...\n",
      "6     MASQ07  1.488875\n",
      "83    MASQ85  1.367481\n",
      "10    MASQ12  1.331534\n",
      "35    MASQ37  1.320590\n",
      "30    MASQ32  1.196895\n",
      "\n",
      "[89 rows x 2 columns]\n"
     ]
    }
   ],
   "source": [
    "masq_cols = [col for col in train.columns if col.startswith(\"MASQ\")]\n",
    "df_masq = train[masq_cols]\n",
    "\n",
    "df_vif = df_masq.copy()\n",
    "df_vif[\"intercept\"] = 1\n",
    "\n",
    "vif_data = pd.DataFrame()\n",
    "vif_data['parameter'] = df_vif.columns\n",
    "vif_data['VIF'] = [variance_inflation_factor(df_vif.values, i) for i in range(df_vif.shape[1])]\n",
    "\n",
    "vif_data = vif_data[vif_data[\"parameter\"] != \"intercept\"]\n",
    "print(vif_data.sort_values(by=\"VIF\", ascending=False))"
   ]
  },
  {
   "cell_type": "markdown",
   "metadata": {},
   "source": [
    "We sorted the VIF values in descending order in order to spot the parameters with the highest multicollinearity, but it looks like none of them really show bad multicollinearity."
   ]
  },
  {
   "cell_type": "code",
   "execution_count": 10,
   "metadata": {},
   "outputs": [
    {
     "data": {
      "text/plain": [
       "D_DEPDYS\n",
       "0    0.52614\n",
       "1    0.47386\n",
       "Name: count, dtype: float64"
      ]
     },
     "execution_count": 10,
     "metadata": {},
     "output_type": "execute_result"
    }
   ],
   "source": [
    "outcome_counts = train['D_DEPDYS'].value_counts()\n",
    "outcome_prob = outcome_counts/outcome_counts.sum()\n",
    "outcome_prob"
   ]
  },
  {
   "cell_type": "markdown",
   "metadata": {},
   "source": [
    "After checking the proportions of our response variable, it looks like our data set is pretty well balanced so we can just use a regular KFold:"
   ]
  },
  {
   "cell_type": "code",
   "execution_count": 1,
   "metadata": {},
   "outputs": [],
   "source": [
    "def predictRidge(X_train, y_train, X_test, alpha):\n",
    "    ridge = Ridge(alpha)\n",
    "    ridge.fit(X_train, y_train)\n",
    "    y_hat = ridge.predict(X_test)\n",
    "    return y_hat\n",
    "\n",
    "\n",
    "def predictLasso(X_train, y_train, X_test, alpha):\n",
    "    lasso = Lasso(alpha)\n",
    "    lasso.fit(X_train, y_train)\n",
    "    y_hat = lasso.predict(X_test)\n",
    "    return y_hat\n",
    "\n",
    "\n",
    "def predictNet(X_train, y_train, X_test, alpha):\n",
    "    elastic = ElasticNet(alpha)\n",
    "    elastic.fit(X_train, y_train)\n",
    "    y_hat = elastic.predict(X_test)\n",
    "    return y_hat"
   ]
  },
  {
   "cell_type": "code",
   "execution_count": 31,
   "metadata": {},
   "outputs": [
    {
     "name": "stderr",
     "output_type": "stream",
     "text": [
      "C:\\Windows\\Temp\\ipykernel_26400\\1077609598.py:15: FutureWarning: The behavior of DataFrame concatenation with empty or all-NA entries is deprecated. In a future version, this will no longer exclude empty or all-NA columns when determining the result dtypes. To retain the old behavior, exclude the relevant entries before the concat operation.\n",
      "  df_accuracies = pd.concat([\n"
     ]
    },
    {
     "data": {
      "text/plain": [
       "ridge          0.741684\n",
       "lasso          0.746607\n",
       "elastic net    0.754575\n",
       "dtype: float64"
      ]
     },
     "execution_count": 31,
     "metadata": {},
     "output_type": "execute_result"
    }
   ],
   "source": [
    "X_train, y_train = train.drop(['D_DEPDYS', 'GENDER'], axis=1), train['D_DEPDYS']\n",
    "\n",
    "kf = KFold(n_splits=10, shuffle=True, random_state=0)\n",
    "df_accuracies = pd.DataFrame(columns=['ridge', 'lasso', 'elastic net'])\n",
    "\n",
    "for train_ix, val_ix in kf.split(X_train, y_train):\n",
    "    fold_X_train, fold_X_val = X_train.iloc[train_ix], X_train.iloc[val_ix]\n",
    "    fold_y_train, fold_y_val = y_train.iloc[train_ix], y_train.iloc[val_ix]\n",
    "\n",
    "    # we need to convert the y preds into binary variables:\n",
    "    y_pred_ridge = (predictRidge(fold_X_train, fold_y_train, fold_X_val, alpha=0.1) > 0.5).astype(int)\n",
    "    y_pred_lasso = (predictLasso(fold_X_train, fold_y_train, fold_X_val, alpha=0.1) > 0.5).astype(int)\n",
    "    y_pred_net = (predictNet(fold_X_train, fold_y_train, fold_X_val, alpha=0.1) > 0.5).astype(int)\n",
    "\n",
    "    df_accuracies = pd.concat([\n",
    "        df_accuracies\n",
    "        , pd.DataFrame({\n",
    "            'ridge': [accuracy_score(y_true=fold_y_val, y_pred=y_pred_ridge)]\n",
    "            , 'lasso': [accuracy_score(y_true=fold_y_val, y_pred=y_pred_lasso)]\n",
    "            , 'elastic net': [accuracy_score(y_true=fold_y_val, y_pred=y_pred_net)]\n",
    "        })\n",
    "    ])\n",
    "\n",
    "df_accuracies = df_accuracies.mean(axis=0)\n",
    "df_accuracies"
   ]
  },
  {
   "cell_type": "markdown",
   "metadata": {},
   "source": [
    "Elastic net stands out with the highest accuracy. We will now test it on the holdout set we've kept aside until now:"
   ]
  },
  {
   "cell_type": "code",
   "execution_count": 41,
   "metadata": {},
   "outputs": [],
   "source": [
    "X_test, y_test = test.drop(['D_DEPDYS', 'GENDER'], axis=1), test['D_DEPDYS']\n",
    "\n",
    "elastic = ElasticNet(alpha=0.1)\n",
    "elastic.fit(X_test, y_test)\n",
    "y_hat = (elastic.predict(X_test) > 0.5).astype(int)"
   ]
  },
  {
   "cell_type": "code",
   "execution_count": 42,
   "metadata": {},
   "outputs": [
    {
     "data": {
      "text/plain": [
       "np.float64(0.2286)"
      ]
     },
     "execution_count": 42,
     "metadata": {},
     "output_type": "execute_result"
    }
   ],
   "source": [
    "cf_mat = confusion_matrix(y_true=y_test, y_pred=y_hat)\n",
    "MCR = round((cf_mat[0,1] + cf_mat[1,0]) / len(y_test), 4)\n",
    "MCR"
   ]
  },
  {
   "cell_type": "markdown",
   "metadata": {},
   "source": [
    "We obtain an MCR of 0.229 on the test set. Let's extract the coefficient from the elastic net model:"
   ]
  },
  {
   "cell_type": "code",
   "execution_count": 50,
   "metadata": {},
   "outputs": [
    {
     "data": {
      "text/plain": [
       "Leeftijd    0.001300\n",
       "MASQ01      0.013209\n",
       "MASQ16      0.080116\n",
       "MASQ22      0.004418\n",
       "MASQ29      0.002592\n",
       "MASQ30      0.055978\n",
       "MASQ33      0.017074\n",
       "MASQ43      0.003388\n",
       "MASQ46      0.000583\n",
       "MASQ51      0.012450\n",
       "MASQ53      0.009676\n",
       "MASQ56      0.013934\n",
       "MASQ60      0.000414\n",
       "MASQ62      0.016268\n",
       "MASQ83      0.003872\n",
       "MASQ89      0.007496\n",
       "dtype: float64"
      ]
     },
     "execution_count": 50,
     "metadata": {},
     "output_type": "execute_result"
    }
   ],
   "source": [
    "coefs = pd.Series(elastic.coef_, index=X_test.columns)\n",
    "coefs = coefs[coefs !=0]\n",
    "coefs"
   ]
  },
  {
   "cell_type": "code",
   "execution_count": 46,
   "metadata": {},
   "outputs": [],
   "source": [
    "masq_subscales = {\n",
    "    \"Anhedonic Depression\": [1, 14, 18, 21, 23, 26, 27, 30, 33, 35, 36, 39, 40, 44, 49, 53, 58, 66, 72, 78, 86, 89],\n",
    "    \"Anxious Arousal\": [3, 19, 25, 45, 48, 52, 55, 57, 61, 67, 69, 73, 75, 79, 85, 87, 88],\n",
    "    \"General Distress Depression\": [6, 8, 10, 13, 16, 22, 24, 42, 47, 56, 64, 74],\n",
    "    \"General Distress Anxiety\": [2, 9, 12, 15, 20, 59, 63, 65, 77, 81, 82],\n",
    "    \"General Distress Mixed\": [4, 5, 17, 29, 31, 34, 37, 50, 51, 70, 76, 80, 83, 84, 90]\n",
    "}"
   ]
  },
  {
   "cell_type": "code",
   "execution_count": 47,
   "metadata": {},
   "outputs": [
    {
     "data": {
      "text/plain": [
       "Index(['Leeftijd', 'MASQ01', 'MASQ16', 'MASQ22', 'MASQ29', 'MASQ30', 'MASQ33',\n",
       "       'MASQ43', 'MASQ46', 'MASQ51', 'MASQ53', 'MASQ56', 'MASQ60', 'MASQ62',\n",
       "       'MASQ83', 'MASQ89'],\n",
       "      dtype='object')"
      ]
     },
     "execution_count": 47,
     "metadata": {},
     "output_type": "execute_result"
    }
   ],
   "source": [
    "coefs.index"
   ]
  },
  {
   "cell_type": "code",
   "execution_count": 51,
   "metadata": {},
   "outputs": [
    {
     "data": {
      "text/plain": [
       "[1, 16, 22, 29, 30, 33, 43, 46, 51, 53, 56, 60, 62, 83, 89]"
      ]
     },
     "execution_count": 51,
     "metadata": {},
     "output_type": "execute_result"
    }
   ],
   "source": [
    "coef_ids = list(map(lambda item: int(item.split('MASQ')[1]), coefs.index[1:]))\n",
    "coef_ids"
   ]
  },
  {
   "cell_type": "code",
   "execution_count": 52,
   "metadata": {},
   "outputs": [
    {
     "data": {
      "text/plain": [
       "{'Anhedonic Depression': 5,\n",
       " 'Anxious Arousal': 0,\n",
       " 'General Distress Depression': 3,\n",
       " 'General Distress Anxiety': 0,\n",
       " 'General Distress Mixed': 3}"
      ]
     },
     "execution_count": 52,
     "metadata": {},
     "output_type": "execute_result"
    }
   ],
   "source": [
    "subscales = {}\n",
    "for key, value in masq_subscales.items():\n",
    "    counter = 0\n",
    "    for i in coef_ids:\n",
    "        if i in value:\n",
    "            counter += 1\n",
    "    subscales[key] = counter\n",
    "subscales"
   ]
  },
  {
   "cell_type": "markdown",
   "metadata": {},
   "source": [
    "It looks like the subscale with the most selected items is anhedonic depression."
   ]
  }
 ],
 "metadata": {
  "kernelspec": {
   "display_name": "venv_stats",
   "language": "python",
   "name": "python3"
  },
  "language_info": {
   "codemirror_mode": {
    "name": "ipython",
    "version": 3
   },
   "file_extension": ".py",
   "mimetype": "text/x-python",
   "name": "python",
   "nbconvert_exporter": "python",
   "pygments_lexer": "ipython3",
   "version": "3.12.3"
  }
 },
 "nbformat": 4,
 "nbformat_minor": 2
}
