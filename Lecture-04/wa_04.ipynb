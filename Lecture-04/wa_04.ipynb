{
 "cells": [
  {
   "cell_type": "code",
   "execution_count": 104,
   "metadata": {},
   "outputs": [],
   "source": [
    "import pandas as pd\n",
    "import matplotlib.pyplot as plt\n",
    "import pingouin as pg\n",
    "from sklearn.model_selection import train_test_split, StratifiedKFold\n",
    "from sklearn.linear_model import LogisticRegression\n",
    "from sklearn.neighbors import KNeighborsClassifier\n",
    "from sklearn.preprocessing import StandardScaler\n",
    "from sklearn.metrics import accuracy_score, confusion_matrix\n",
    "from statistics import fmean"
   ]
  },
  {
   "cell_type": "code",
   "execution_count": 97,
   "metadata": {},
   "outputs": [],
   "source": [
    "df_data = pd.read_csv(\"data.csv\").dropna(axis=1, how='all')\n",
    "df_data.drop(columns=['id', 'fractal_dimension_worst'], inplace=True)\n",
    "X_train, X_test, y_train, y_test = train_test_split(\n",
    "    df_data.drop(columns=['diagnosis'])\n",
    "    , df_data['diagnosis']\n",
    "    , test_size=0.2\n",
    "    , random_state=0\n",
    "    , stratify=df_data['diagnosis']\n",
    ")\n",
    "# after getting a convergence warning for LR during CV, i chose to scale the data:\n",
    "scaler = StandardScaler()\n",
    "X_train = pd.DataFrame(scaler.fit_transform(X_train))\n",
    "X_test = pd.DataFrame(scaler.transform(X_test))"
   ]
  },
  {
   "cell_type": "markdown",
   "metadata": {},
   "source": [
    "Let's first take a look at our predictors after excluding the response variable from the dataframe:"
   ]
  },
  {
   "cell_type": "code",
   "execution_count": 90,
   "metadata": {},
   "outputs": [
    {
     "data": {
      "text/plain": [
       "(569, 29)"
      ]
     },
     "execution_count": 90,
     "metadata": {},
     "output_type": "execute_result"
    }
   ],
   "source": [
    "df_data.drop(columns=['diagnosis']).shape"
   ]
  },
  {
   "cell_type": "markdown",
   "metadata": {},
   "source": [
    "We see that our data set has 29 predictors..."
   ]
  },
  {
   "cell_type": "code",
   "execution_count": 91,
   "metadata": {},
   "outputs": [
    {
     "data": {
      "text/plain": [
       "455"
      ]
     },
     "execution_count": 91,
     "metadata": {},
     "output_type": "execute_result"
    }
   ],
   "source": [
    "len(y_train)"
   ]
  },
  {
   "cell_type": "markdown",
   "metadata": {},
   "source": [
    "... and our training set contains 455 observations.\n",
    "\n",
    "In order to know how good of a fit discriminant analysis is in our case, we first need to check whether our predictors come from a multivariate normal distribution or not. If not, then we could still run LDA or QDA for the sake of comparison, but it is unlikely to yield good results. We will run the Henze-Zirkler test with a method from the ```pingouin``` library:"
   ]
  },
  {
   "cell_type": "code",
   "execution_count": 98,
   "metadata": {},
   "outputs": [
    {
     "data": {
      "text/plain": [
       "HZResults(hz=np.float64(1.1875820156905261), pval=np.float64(0.0), normal=False)"
      ]
     },
     "execution_count": 98,
     "metadata": {},
     "output_type": "execute_result"
    }
   ],
   "source": [
    "pg.multivariate_normality(X_train, alpha=.05)"
   ]
  },
  {
   "cell_type": "markdown",
   "metadata": {},
   "source": [
    "In the Henze-Zirkler test the null hypothesis is that the data follows a multivariate normal distribution, so here with a p-value of ```0.0``` we can safely reject that null hypothesis and conclude that our data failed the multivariate normality check, so we should better forget about discriminant analysis for now and explore alternative models.\n",
    "\n",
    "Since discriminant analysis is not an option here, we will turn to logistic regression instead. Also, since our interest is in comparing low variance and low bias methods, we will fit k-NN, k=3 and k-NN, k=15 to our data set as well and compare the results to logistic regression."
   ]
  },
  {
   "cell_type": "code",
   "execution_count": 99,
   "metadata": {},
   "outputs": [
    {
     "data": {
      "text/plain": [
       "diagnosis\n",
       "B    285\n",
       "M    170\n",
       "Name: count, dtype: int64"
      ]
     },
     "execution_count": 99,
     "metadata": {},
     "output_type": "execute_result"
    }
   ],
   "source": [
    "outcome_counts = y_train.value_counts()\n",
    "outcome_counts"
   ]
  },
  {
   "cell_type": "code",
   "execution_count": 94,
   "metadata": {},
   "outputs": [
    {
     "name": "stdout",
     "output_type": "stream",
     "text": [
      "Malign outcome % : 37.4%\n"
     ]
    }
   ],
   "source": [
    "print(\"Malign outcome %% : %s%%\" % (100 * round(outcome_counts['M']/outcome_counts.sum(axis=0), 3)))"
   ]
  },
  {
   "cell_type": "markdown",
   "metadata": {},
   "source": [
    "As we can see from the result printed above, our data set is moderately imbalanced: ```M```(malign) outcomes make up only 37% of the data, and so benign makes up 63%. For that reason we'll use ```StratifiedKFold``` instead of the basic KFold object, although the imbalance here is really moderate so using KFold would surely not yield results that are much worse."
   ]
  },
  {
   "cell_type": "code",
   "execution_count": 82,
   "metadata": {},
   "outputs": [],
   "source": [
    "def predictLogit(train_X, train_y, test_X):\n",
    "    model = LogisticRegression().fit(train_X, train_y)\n",
    "    y_hat = model.predict(test_X)\n",
    "    return y_hat\n",
    "\n",
    "\n",
    "def predictKNN(train_X, train_y, test_X, k):\n",
    "    model = KNeighborsClassifier(n_neighbors=k).fit(train_X, train_y)\n",
    "    y_hat = model.predict(test_X)\n",
    "    return y_hat"
   ]
  },
  {
   "cell_type": "code",
   "execution_count": 100,
   "metadata": {},
   "outputs": [
    {
     "data": {
      "text/html": [
       "<div>\n",
       "<style scoped>\n",
       "    .dataframe tbody tr th:only-of-type {\n",
       "        vertical-align: middle;\n",
       "    }\n",
       "\n",
       "    .dataframe tbody tr th {\n",
       "        vertical-align: top;\n",
       "    }\n",
       "\n",
       "    .dataframe thead th {\n",
       "        text-align: right;\n",
       "    }\n",
       "</style>\n",
       "<table border=\"1\" class=\"dataframe\">\n",
       "  <thead>\n",
       "    <tr style=\"text-align: right;\">\n",
       "      <th></th>\n",
       "      <th>avg accuracy</th>\n",
       "    </tr>\n",
       "  </thead>\n",
       "  <tbody>\n",
       "    <tr>\n",
       "      <th>logit</th>\n",
       "      <td>0.9846</td>\n",
       "    </tr>\n",
       "    <tr>\n",
       "      <th>k-NN, k=3</th>\n",
       "      <td>0.9647</td>\n",
       "    </tr>\n",
       "    <tr>\n",
       "      <th>k-NN, k=15</th>\n",
       "      <td>0.9604</td>\n",
       "    </tr>\n",
       "  </tbody>\n",
       "</table>\n",
       "</div>"
      ],
      "text/plain": [
       "            avg accuracy\n",
       "logit             0.9846\n",
       "k-NN, k=3         0.9647\n",
       "k-NN, k=15        0.9604"
      ]
     },
     "execution_count": 100,
     "metadata": {},
     "output_type": "execute_result"
    }
   ],
   "source": [
    "skf = StratifiedKFold(n_splits=10, shuffle=True, random_state=0)\n",
    "\n",
    "accuracies_logit, accuracies_3NN, accuracies_15NN = [], [], []\n",
    "\n",
    "for train_ix, val_ix in skf.split(X_train, y_train):\n",
    "\n",
    "    fold_x_train, fold_x_val = X_train.iloc[train_ix], X_train.iloc[val_ix]\n",
    "    fold_y_train, fold_y_val = y_train.iloc[train_ix], y_train.iloc[val_ix]\n",
    "\n",
    "    y_hat_logit = predictLogit(fold_x_train, fold_y_train, fold_x_val)\n",
    "    y_hat_3NN = predictKNN(fold_x_train, fold_y_train, fold_x_val, 3)\n",
    "    y_hat_15NN = predictKNN(fold_x_train, fold_y_train, fold_x_val, 15)\n",
    "\n",
    "    accuracies_logit.append(accuracy_score(y_true=fold_y_val, y_pred=y_hat_logit))\n",
    "    accuracies_3NN.append(accuracy_score(y_true=fold_y_val, y_pred=y_hat_3NN))\n",
    "    accuracies_15NN.append(accuracy_score(y_true=fold_y_val, y_pred=y_hat_15NN))\n",
    "\n",
    "accuracies = [accuracies_logit, accuracies_3NN, accuracies_15NN]\n",
    "avg_accuracies = list(map(fmean, accuracies))\n",
    "avg_accuracies = [round(m, 4) for m in avg_accuracies]\n",
    "\n",
    "df_acc = pd.DataFrame({'avg accuracy': avg_accuracies})\n",
    "df_acc.index = pd.Index(['logit', 'k-NN, k=3', 'k-NN, k=15'])\n",
    "df_acc"
   ]
  },
  {
   "cell_type": "markdown",
   "metadata": {},
   "source": [
    "Scaling the data had a noticeable positive impact on our accuracy measurements, as we can see by comparing the new results above to the screenshot below that contains the previous results before scaling our data."
   ]
  },
  {
   "attachments": {
    "image.png": {
     "image/png": "[encoded data removed]"
    }
   },
   "cell_type": "markdown",
   "metadata": {},
   "source": [
    "![image.png](attachment:image.png)"
   ]
  },
  {
   "cell_type": "markdown",
   "metadata": {},
   "source": [
    "Since LR clearly had the highest accuracy over the 10 folds, we select this model to perform a prediction test on our reserved unseen data (```X_test```):"
   ]
  },
  {
   "cell_type": "code",
   "execution_count": 101,
   "metadata": {},
   "outputs": [],
   "source": [
    "y_hat = predictLogit(X_train, y_train, X_test)"
   ]
  },
  {
   "cell_type": "code",
   "execution_count": 106,
   "metadata": {},
   "outputs": [
    {
     "data": {
      "text/html": [
       "<div>\n",
       "<style scoped>\n",
       "    .dataframe tbody tr th:only-of-type {\n",
       "        vertical-align: middle;\n",
       "    }\n",
       "\n",
       "    .dataframe tbody tr th {\n",
       "        vertical-align: top;\n",
       "    }\n",
       "\n",
       "    .dataframe thead th {\n",
       "        text-align: right;\n",
       "    }\n",
       "</style>\n",
       "<table border=\"1\" class=\"dataframe\">\n",
       "  <thead>\n",
       "    <tr style=\"text-align: right;\">\n",
       "      <th></th>\n",
       "      <th>Score</th>\n",
       "    </tr>\n",
       "  </thead>\n",
       "  <tbody>\n",
       "    <tr>\n",
       "      <th>accuracy</th>\n",
       "      <td>0.9649</td>\n",
       "    </tr>\n",
       "    <tr>\n",
       "      <th>sensitivity</th>\n",
       "      <td>0.9524</td>\n",
       "    </tr>\n",
       "    <tr>\n",
       "      <th>specificity</th>\n",
       "      <td>0.9722</td>\n",
       "    </tr>\n",
       "  </tbody>\n",
       "</table>\n",
       "</div>"
      ],
      "text/plain": [
       "              Score\n",
       "accuracy     0.9649\n",
       "sensitivity  0.9524\n",
       "specificity  0.9722"
      ]
     },
     "execution_count": 106,
     "metadata": {},
     "output_type": "execute_result"
    }
   ],
   "source": [
    "cf_mat = confusion_matrix(y_true=y_test, y_pred=y_hat)\n",
    "accuracy = round((cf_mat[0,0] + cf_mat[1,1]) / len(y_test), 4)\n",
    "sensitivity = round(cf_mat[1,1] / (cf_mat[1,1] + cf_mat[1,0]), 4)\n",
    "specificity = round(cf_mat[0,0] / (cf_mat[0,0] + cf_mat[0,1]), 4)\n",
    "\n",
    "df_report = pd.DataFrame({'Score': [accuracy, sensitivity, specificity]})\n",
    "df_report.index = pd.Index(['accuracy', 'sensitivity', 'specificity'])\n",
    "df_report"
   ]
  },
  {
   "cell_type": "markdown",
   "metadata": {},
   "source": [
    "We notice that the accuracy of LR here is slightly lower than the average accuracy obtained from cross validation, which is perfectly normal (since the performance measurements from the folds are correlated). The accuracy obtained on the test set is only 2% lower than that from cross validation, so we conclude that logistic regression generalises pretty well in this case. The two other performance measures are also excellent, particularly specificity which means LR classifies negatives very well here."
   ]
  }
 ],
 "metadata": {
  "kernelspec": {
   "display_name": "venv_stats",
   "language": "python",
   "name": "python3"
  },
  "language_info": {
   "codemirror_mode": {
    "name": "ipython",
    "version": 3
   },
   "file_extension": ".py",
   "mimetype": "text/x-python",
   "name": "python",
   "nbconvert_exporter": "python",
   "pygments_lexer": "ipython3",
   "version": "3.12.3"
  }
 },
 "nbformat": 4,
 "nbformat_minor": 2
}
